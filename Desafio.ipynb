{
 "cells": [
  {
   "cell_type": "code",
   "execution_count": 1,
   "id": "3d0bac4c",
   "metadata": {},
   "outputs": [],
   "source": [
    "import pandas as pd\n",
    "import seaborn as sns\n",
    "import matplotlib.pyplot as plt\n",
    "import numpy as np\n",
    "\n",
    "from category_encoders.target_encoder import TargetEncoder\n",
    "from sklearn.ensemble import RandomForestClassifier\n",
    "from sklearn.model_selection import (GridSearchCV, train_test_split)\n",
    "from sklearn.metrics import classification_report\n",
    "from sklearn.preprocessing import StandardScaler\n",
    "from sklearn.preprocessing import MinMaxScaler\n",
    "\n",
    "from sklearn.preprocessing import OneHotEncoder\n",
    "\n",
    "from sklearn.compose import ColumnTransformer\n",
    "from imblearn.over_sampling import SMOTE\n",
    "from imblearn.pipeline import make_pipeline"
   ]
  },
  {
   "cell_type": "code",
   "execution_count": 2,
   "id": "51074a0e",
   "metadata": {},
   "outputs": [],
   "source": [
    "import warnings\n",
    "\n",
    "warnings.filterwarnings('ignore')"
   ]
  },
  {
   "cell_type": "markdown",
   "id": "fef86f69",
   "metadata": {},
   "source": [
    "# Análise Exploratória"
   ]
  },
  {
   "cell_type": "code",
   "execution_count": 103,
   "id": "0626a2c3",
   "metadata": {},
   "outputs": [],
   "source": [
    "dados = pd.read_csv('Customer-Churn - Customer-Churn.csv')"
   ]
  },
  {
   "cell_type": "code",
   "execution_count": 62,
   "id": "0d5c71c1",
   "metadata": {},
   "outputs": [
    {
     "data": {
      "text/html": [
       "<div>\n",
       "<style scoped>\n",
       "    .dataframe tbody tr th:only-of-type {\n",
       "        vertical-align: middle;\n",
       "    }\n",
       "\n",
       "    .dataframe tbody tr th {\n",
       "        vertical-align: top;\n",
       "    }\n",
       "\n",
       "    .dataframe thead th {\n",
       "        text-align: right;\n",
       "    }\n",
       "</style>\n",
       "<table border=\"1\" class=\"dataframe\">\n",
       "  <thead>\n",
       "    <tr style=\"text-align: right;\">\n",
       "      <th></th>\n",
       "      <th>customerID</th>\n",
       "      <th>gender</th>\n",
       "      <th>SeniorCitizen</th>\n",
       "      <th>Partner</th>\n",
       "      <th>Dependents</th>\n",
       "      <th>tenure</th>\n",
       "      <th>PhoneService</th>\n",
       "      <th>MultipleLines</th>\n",
       "      <th>InternetService</th>\n",
       "      <th>OnlineSecurity</th>\n",
       "      <th>...</th>\n",
       "      <th>DeviceProtection</th>\n",
       "      <th>TechSupport</th>\n",
       "      <th>StreamingTV</th>\n",
       "      <th>StreamingMovies</th>\n",
       "      <th>Contract</th>\n",
       "      <th>PaperlessBilling</th>\n",
       "      <th>PaymentMethod</th>\n",
       "      <th>MonthlyCharges</th>\n",
       "      <th>TotalCharges</th>\n",
       "      <th>Churn</th>\n",
       "    </tr>\n",
       "  </thead>\n",
       "  <tbody>\n",
       "    <tr>\n",
       "      <th>0</th>\n",
       "      <td>7569-NMZYQ</td>\n",
       "      <td>Female</td>\n",
       "      <td>0</td>\n",
       "      <td>Yes</td>\n",
       "      <td>Yes</td>\n",
       "      <td>72</td>\n",
       "      <td>Yes</td>\n",
       "      <td>Yes</td>\n",
       "      <td>Fiber optic</td>\n",
       "      <td>Yes</td>\n",
       "      <td>...</td>\n",
       "      <td>Yes</td>\n",
       "      <td>Yes</td>\n",
       "      <td>Yes</td>\n",
       "      <td>Yes</td>\n",
       "      <td>Two year</td>\n",
       "      <td>Yes</td>\n",
       "      <td>Bank transfer (automatic)</td>\n",
       "      <td>118,75</td>\n",
       "      <td>8672,45</td>\n",
       "      <td>No</td>\n",
       "    </tr>\n",
       "    <tr>\n",
       "      <th>1</th>\n",
       "      <td>8984-HPEMB</td>\n",
       "      <td>Female</td>\n",
       "      <td>0</td>\n",
       "      <td>No</td>\n",
       "      <td>No</td>\n",
       "      <td>71</td>\n",
       "      <td>Yes</td>\n",
       "      <td>Yes</td>\n",
       "      <td>Fiber optic</td>\n",
       "      <td>Yes</td>\n",
       "      <td>...</td>\n",
       "      <td>Yes</td>\n",
       "      <td>Yes</td>\n",
       "      <td>Yes</td>\n",
       "      <td>Yes</td>\n",
       "      <td>Two year</td>\n",
       "      <td>Yes</td>\n",
       "      <td>Electronic check</td>\n",
       "      <td>118,65</td>\n",
       "      <td>8477,6</td>\n",
       "      <td>No</td>\n",
       "    </tr>\n",
       "    <tr>\n",
       "      <th>2</th>\n",
       "      <td>5989-AXPUC</td>\n",
       "      <td>Female</td>\n",
       "      <td>0</td>\n",
       "      <td>Yes</td>\n",
       "      <td>No</td>\n",
       "      <td>68</td>\n",
       "      <td>Yes</td>\n",
       "      <td>Yes</td>\n",
       "      <td>Fiber optic</td>\n",
       "      <td>Yes</td>\n",
       "      <td>...</td>\n",
       "      <td>Yes</td>\n",
       "      <td>Yes</td>\n",
       "      <td>Yes</td>\n",
       "      <td>Yes</td>\n",
       "      <td>Two year</td>\n",
       "      <td>No</td>\n",
       "      <td>Mailed check</td>\n",
       "      <td>118,6</td>\n",
       "      <td>7990,05</td>\n",
       "      <td>No</td>\n",
       "    </tr>\n",
       "    <tr>\n",
       "      <th>3</th>\n",
       "      <td>5734-EJKXG</td>\n",
       "      <td>Female</td>\n",
       "      <td>0</td>\n",
       "      <td>No</td>\n",
       "      <td>No</td>\n",
       "      <td>61</td>\n",
       "      <td>Yes</td>\n",
       "      <td>Yes</td>\n",
       "      <td>Fiber optic</td>\n",
       "      <td>Yes</td>\n",
       "      <td>...</td>\n",
       "      <td>Yes</td>\n",
       "      <td>Yes</td>\n",
       "      <td>Yes</td>\n",
       "      <td>Yes</td>\n",
       "      <td>One year</td>\n",
       "      <td>Yes</td>\n",
       "      <td>Electronic check</td>\n",
       "      <td>118,6</td>\n",
       "      <td>7365,7</td>\n",
       "      <td>No</td>\n",
       "    </tr>\n",
       "    <tr>\n",
       "      <th>4</th>\n",
       "      <td>8199-ZLLSA</td>\n",
       "      <td>Male</td>\n",
       "      <td>0</td>\n",
       "      <td>No</td>\n",
       "      <td>No</td>\n",
       "      <td>67</td>\n",
       "      <td>Yes</td>\n",
       "      <td>Yes</td>\n",
       "      <td>Fiber optic</td>\n",
       "      <td>Yes</td>\n",
       "      <td>...</td>\n",
       "      <td>Yes</td>\n",
       "      <td>Yes</td>\n",
       "      <td>Yes</td>\n",
       "      <td>Yes</td>\n",
       "      <td>One year</td>\n",
       "      <td>Yes</td>\n",
       "      <td>Bank transfer (automatic)</td>\n",
       "      <td>118,35</td>\n",
       "      <td>7804,15</td>\n",
       "      <td>Yes</td>\n",
       "    </tr>\n",
       "  </tbody>\n",
       "</table>\n",
       "<p>5 rows × 21 columns</p>\n",
       "</div>"
      ],
      "text/plain": [
       "   customerID  gender  SeniorCitizen Partner Dependents  tenure PhoneService  \\\n",
       "0  7569-NMZYQ  Female              0     Yes        Yes      72          Yes   \n",
       "1  8984-HPEMB  Female              0      No         No      71          Yes   \n",
       "2  5989-AXPUC  Female              0     Yes         No      68          Yes   \n",
       "3  5734-EJKXG  Female              0      No         No      61          Yes   \n",
       "4  8199-ZLLSA    Male              0      No         No      67          Yes   \n",
       "\n",
       "  MultipleLines InternetService OnlineSecurity  ... DeviceProtection  \\\n",
       "0           Yes     Fiber optic            Yes  ...              Yes   \n",
       "1           Yes     Fiber optic            Yes  ...              Yes   \n",
       "2           Yes     Fiber optic            Yes  ...              Yes   \n",
       "3           Yes     Fiber optic            Yes  ...              Yes   \n",
       "4           Yes     Fiber optic            Yes  ...              Yes   \n",
       "\n",
       "  TechSupport StreamingTV StreamingMovies  Contract PaperlessBilling  \\\n",
       "0         Yes         Yes             Yes  Two year              Yes   \n",
       "1         Yes         Yes             Yes  Two year              Yes   \n",
       "2         Yes         Yes             Yes  Two year               No   \n",
       "3         Yes         Yes             Yes  One year              Yes   \n",
       "4         Yes         Yes             Yes  One year              Yes   \n",
       "\n",
       "               PaymentMethod MonthlyCharges TotalCharges Churn  \n",
       "0  Bank transfer (automatic)         118,75      8672,45    No  \n",
       "1           Electronic check         118,65       8477,6    No  \n",
       "2               Mailed check          118,6      7990,05    No  \n",
       "3           Electronic check          118,6       7365,7    No  \n",
       "4  Bank transfer (automatic)         118,35      7804,15   Yes  \n",
       "\n",
       "[5 rows x 21 columns]"
      ]
     },
     "execution_count": 62,
     "metadata": {},
     "output_type": "execute_result"
    }
   ],
   "source": [
    "dados.head()"
   ]
  },
  {
   "cell_type": "code",
   "execution_count": 63,
   "id": "abc9cafb",
   "metadata": {},
   "outputs": [
    {
     "data": {
      "text/plain": [
       "(7043, 21)"
      ]
     },
     "execution_count": 63,
     "metadata": {},
     "output_type": "execute_result"
    }
   ],
   "source": [
    "dados.shape"
   ]
  },
  {
   "cell_type": "code",
   "execution_count": 64,
   "id": "38298f1a",
   "metadata": {},
   "outputs": [
    {
     "data": {
      "text/plain": [
       "customerID          object\n",
       "gender              object\n",
       "SeniorCitizen        int64\n",
       "Partner             object\n",
       "Dependents          object\n",
       "tenure               int64\n",
       "PhoneService        object\n",
       "MultipleLines       object\n",
       "InternetService     object\n",
       "OnlineSecurity      object\n",
       "OnlineBackup        object\n",
       "DeviceProtection    object\n",
       "TechSupport         object\n",
       "StreamingTV         object\n",
       "StreamingMovies     object\n",
       "Contract            object\n",
       "PaperlessBilling    object\n",
       "PaymentMethod       object\n",
       "MonthlyCharges      object\n",
       "TotalCharges        object\n",
       "Churn               object\n",
       "dtype: object"
      ]
     },
     "execution_count": 64,
     "metadata": {},
     "output_type": "execute_result"
    }
   ],
   "source": [
    "dados.dtypes"
   ]
  },
  {
   "cell_type": "code",
   "execution_count": 104,
   "id": "181f2f51",
   "metadata": {},
   "outputs": [],
   "source": [
    "dados['tenure'] = dados['tenure'].astype(int)\n",
    "dados['MonthlyCharges'] = dados['MonthlyCharges'].str.replace(',', '.').astype(float)\n",
    "dados['TotalCharges'] = dados['TotalCharges'].str.replace(',', '.').astype(float)"
   ]
  },
  {
   "cell_type": "code",
   "execution_count": 66,
   "id": "00b74504",
   "metadata": {},
   "outputs": [
    {
     "name": "stdout",
     "output_type": "stream",
     "text": [
      "customerID          7043\n",
      "gender                 2\n",
      "SeniorCitizen          2\n",
      "Partner                2\n",
      "Dependents             2\n",
      "tenure                73\n",
      "PhoneService           2\n",
      "MultipleLines          3\n",
      "InternetService        3\n",
      "OnlineSecurity         3\n",
      "OnlineBackup           3\n",
      "DeviceProtection       3\n",
      "TechSupport            3\n",
      "StreamingTV            3\n",
      "StreamingMovies        3\n",
      "Contract               3\n",
      "PaperlessBilling       2\n",
      "PaymentMethod          4\n",
      "MonthlyCharges      1585\n",
      "TotalCharges        6530\n",
      "Churn                  2\n",
      "dtype: int64\n"
     ]
    }
   ],
   "source": [
    "result = dados.nunique()\n",
    "print(result)"
   ]
  },
  {
   "cell_type": "markdown",
   "id": "ea70dbc2",
   "metadata": {},
   "source": [
    "customerID: ID do usuário\n",
    "\n",
    "gender: gênero do cliente (male / female)\n",
    "\n",
    "SeniorCitizen: se o cliente é aposentado (1, 0)\n",
    "\n",
    "Partner: se o cliente é casado (Yes, No)\n",
    "\n",
    "tenure: há quantos meses é cliente da empresa\n",
    "\n",
    "PhoneService: se o serviço de telefonia está conectado (Yes, No)\n",
    "\n",
    "MultipleLines: se tem multiplas linhas telefônicas conectadas (Yes, No, No phone service)\n",
    "\n",
    "InternetService: provedor de serviço de internet do cliente (DSL, Fiber optic, No)\n",
    "\n",
    "OnlineSecurity: se o serviço de segurança online está conectado (Yes, No, No internet service)\n",
    "\n",
    "OnlineBackup: se o serviço de backup online está ativo (Yes, No, No internet service)\n",
    "\n",
    "DeviceProtection: se o cliente possui seguro do equipamento (Yes, No, No internet service)\n",
    "\n",
    "TechSupport: se o suporte técnico está conectado (Yes, No, No internet service)\n",
    "\n",
    "StreamingTV: se o serviço de streaming para TV está conectado (Yes, No, No internet service)\n",
    "\n",
    "StreamingMovies: se o serviço de streaming de filmes está ativo (Yes, No, No internet service)\n",
    "\n",
    "Contract: tipo de contrato (Month-to-month, One year, Two year)\n",
    "\n",
    "PaperlessBilling: se o cliente recebe a conta por meios digitais, sem uso de papel (Yes, No)\n",
    "\n",
    "PaymentMethod: forma de pagamento (Electronic check, Mailed check, Bank transfer (automatic), Credit card (automatic))\n",
    "\n",
    "MonthlyCharges: valor do pagamento mensal atual\n",
    "\n",
    "TotalCharges: valor total pago pelo cliente pelos serviços durante todo o tempo\n",
    "\n",
    "Churn: se houve cancelamento, ou seja, se houve churn (Yes, No)"
   ]
  },
  {
   "cell_type": "code",
   "execution_count": 89,
   "id": "d9e5c220",
   "metadata": {},
   "outputs": [
    {
     "data": {
      "text/plain": [
       "customerID          0\n",
       "gender              0\n",
       "SeniorCitizen       0\n",
       "Partner             0\n",
       "Dependents          0\n",
       "tenure              0\n",
       "PhoneService        0\n",
       "MultipleLines       0\n",
       "InternetService     0\n",
       "OnlineSecurity      0\n",
       "OnlineBackup        0\n",
       "DeviceProtection    0\n",
       "TechSupport         0\n",
       "StreamingTV         0\n",
       "StreamingMovies     0\n",
       "Contract            0\n",
       "PaperlessBilling    0\n",
       "PaymentMethod       0\n",
       "MonthlyCharges      0\n",
       "TotalCharges        0\n",
       "Churn               0\n",
       "tenure_bins         0\n",
       "dtype: int64"
      ]
     },
     "execution_count": 89,
     "metadata": {},
     "output_type": "execute_result"
    }
   ],
   "source": [
    "dados.isnull().sum()"
   ]
  },
  {
   "cell_type": "code",
   "execution_count": 105,
   "id": "f67ed516",
   "metadata": {},
   "outputs": [],
   "source": [
    "dados['TotalCharges'] = dados['TotalCharges'].fillna(dados['TotalCharges'].median())"
   ]
  },
  {
   "cell_type": "code",
   "execution_count": 69,
   "id": "6e091fd8",
   "metadata": {},
   "outputs": [
    {
     "data": {
      "text/plain": [
       "customerID          0\n",
       "gender              0\n",
       "SeniorCitizen       0\n",
       "Partner             0\n",
       "Dependents          0\n",
       "tenure              0\n",
       "PhoneService        0\n",
       "MultipleLines       0\n",
       "InternetService     0\n",
       "OnlineSecurity      0\n",
       "OnlineBackup        0\n",
       "DeviceProtection    0\n",
       "TechSupport         0\n",
       "StreamingTV         0\n",
       "StreamingMovies     0\n",
       "Contract            0\n",
       "PaperlessBilling    0\n",
       "PaymentMethod       0\n",
       "MonthlyCharges      0\n",
       "TotalCharges        0\n",
       "Churn               0\n",
       "dtype: int64"
      ]
     },
     "execution_count": 69,
     "metadata": {},
     "output_type": "execute_result"
    }
   ],
   "source": [
    "dados.isnull().sum()"
   ]
  },
  {
   "cell_type": "code",
   "execution_count": 70,
   "id": "54e49c4e",
   "metadata": {},
   "outputs": [
    {
     "name": "stdout",
     "output_type": "stream",
     "text": [
      "Resumo Estatístico para Variáveis Numéricas:\n",
      "       SeniorCitizen       tenure  MonthlyCharges  TotalCharges\n",
      "count    7043.000000  7043.000000     7043.000000   7043.000000\n",
      "mean        0.162147    32.371149       64.761692   2281.916928\n",
      "std         0.368612    24.559481       30.090047   2265.270398\n",
      "min         0.000000     0.000000       18.250000     18.800000\n",
      "25%         0.000000     9.000000       35.500000    402.225000\n",
      "50%         0.000000    29.000000       70.350000   1397.475000\n",
      "75%         0.000000    55.000000       89.850000   3786.600000\n",
      "max         1.000000    72.000000      118.750000   8684.800000\n",
      "\n",
      "Resumo Estatístico para Variáveis Categóricas:\n",
      "        customerID gender Partner Dependents PhoneService MultipleLines  \\\n",
      "count         7043   7043    7043       7043         7043          7043   \n",
      "unique        7043      2       2          2            2             3   \n",
      "top     7569-NMZYQ   Male      No         No          Yes            No   \n",
      "freq             1   3555    3641       4933         6361          3390   \n",
      "\n",
      "       InternetService OnlineSecurity OnlineBackup DeviceProtection  \\\n",
      "count             7043           7043         7043             7043   \n",
      "unique               3              3            3                3   \n",
      "top        Fiber optic             No           No               No   \n",
      "freq              3096           3498         3088             3095   \n",
      "\n",
      "       TechSupport StreamingTV StreamingMovies        Contract  \\\n",
      "count         7043        7043            7043            7043   \n",
      "unique           3           3               3               3   \n",
      "top             No          No              No  Month-to-month   \n",
      "freq          3473        2810            2785            3875   \n",
      "\n",
      "       PaperlessBilling     PaymentMethod Churn  \n",
      "count              7043              7043  7043  \n",
      "unique                2                 4     2  \n",
      "top                 Yes  Electronic check    No  \n",
      "freq               4171              2365  5174  \n"
     ]
    }
   ],
   "source": [
    "resumo_numerico = dados.describe()\n",
    "resumo_numerico = dados.describe()\n",
    "\n",
    "resumo_categorico = dados.describe(include='object')\n",
    "\n",
    "print(\"Resumo Estatístico para Variáveis Numéricas:\")\n",
    "print(resumo_numerico)\n",
    "\n",
    "print(\"\\nResumo Estatístico para Variáveis Categóricas:\")\n",
    "print(resumo_categorico)"
   ]
  },
  {
   "cell_type": "markdown",
   "id": "3c1ec625",
   "metadata": {},
   "source": [
    "A variável SeniorCitizené composta de 1 e 0 para aposentado e não aposentado respectivamente. É possivel perceber que a grande maioria dos clientes não são aposentados."
   ]
  },
  {
   "cell_type": "markdown",
   "id": "508297ac",
   "metadata": {},
   "source": [
    "A variável tenure (tempo que a pessoa é cliente da empresa) nos mostra valor máximo de 6 anos (72 meses), 75% dos clientes com tempo acima de 4 anos (55 meses) e uma média de 2 anos e 8 meses (32 meses)."
   ]
  },
  {
   "cell_type": "markdown",
   "id": "debee6a4",
   "metadata": {},
   "source": [
    "Quanto às variáveis MonthlyCharges e TotalCharges a maioria dos clientes (75%) efetua pagamento mensal e total superior à média."
   ]
  },
  {
   "cell_type": "code",
   "execution_count": 13,
   "id": "d430e62c",
   "metadata": {},
   "outputs": [
    {
     "data": {
      "text/plain": [
       "<Axes: >"
      ]
     },
     "execution_count": 13,
     "metadata": {},
     "output_type": "execute_result"
    },
    {
     "data": {
      "image/png": "[encoded data removed]",
      "text/plain": [
       "<Figure size 640x480 with 1 Axes>"
      ]
     },
     "metadata": {},
     "output_type": "display_data"
    }
   ],
   "source": [
    "sns.boxplot(data=dados[['SeniorCitizen','tenure','MonthlyCharges','TotalCharges']])"
   ]
  },
  {
   "cell_type": "code",
   "execution_count": 14,
   "id": "a8b3643f",
   "metadata": {},
   "outputs": [
    {
     "data": {
      "image/png": "[encoded data removed]",
      "text/plain": [
       "<Figure size 640x480 with 1 Axes>"
      ]
     },
     "metadata": {},
     "output_type": "display_data"
    }
   ],
   "source": [
    "churn_percentages = dados['Churn'].value_counts(normalize=True) * 100\n",
    "sns.barplot(x=churn_percentages.index, y=churn_percentages.values)\n",
    "plt.title('Porcentagem de Churn')\n",
    "plt.xlabel('Churn')\n",
    "plt.ylabel('Porcentagem')\n",
    "plt.show()"
   ]
  },
  {
   "cell_type": "code",
   "execution_count": 15,
   "id": "a3741edd",
   "metadata": {},
   "outputs": [
    {
     "data": {
      "text/plain": [
       "26.536987079369588"
      ]
     },
     "execution_count": 15,
     "metadata": {},
     "output_type": "execute_result"
    }
   ],
   "source": [
    "((7043 - 5174)*100)/7043"
   ]
  },
  {
   "cell_type": "markdown",
   "id": "2d2a2857",
   "metadata": {},
   "source": [
    "As classes estão levemente desbalanceadas.\n",
    "Verificamos também nesse dataset uma porcentagem de 26,5% de churn"
   ]
  },
  {
   "cell_type": "code",
   "execution_count": 16,
   "id": "e02020e4",
   "metadata": {},
   "outputs": [
    {
     "data": {
      "image/png": "[encoded data removed]",
      "text/plain": [
       "<Figure size 1000x800 with 4 Axes>"
      ]
     },
     "metadata": {},
     "output_type": "display_data"
    }
   ],
   "source": [
    "fig, axes = plt.subplots(2, 2, figsize=(10, 8))\n",
    "\n",
    "sns.histplot(dados['SeniorCitizen'], bins=10, kde=False, color='blue', ax=axes[0, 0])\n",
    "axes[0, 0].set_title('Histograma para SeniorCitizen')\n",
    "\n",
    "\n",
    "sns.histplot(dados['tenure'], bins=10, kde=False, color='orange', ax=axes[0, 1])\n",
    "axes[0, 1].set_title('Histograma para tenure')\n",
    "\n",
    "\n",
    "sns.histplot(dados['MonthlyCharges'], bins=10, kde=False, color='pink', ax=axes[1, 0])\n",
    "axes[1, 0].set_title('Histograma para MonthlyCharges')\n",
    "\n",
    "\n",
    "sns.histplot(dados['TotalCharges'], bins=10, kde=False, color='black', ax=axes[1, 1])\n",
    "axes[1, 1].set_title('Histograma para TotalCharges')\n",
    "\n",
    "plt.tight_layout()\n",
    "plt.show()"
   ]
  },
  {
   "cell_type": "markdown",
   "id": "14bc1e20",
   "metadata": {},
   "source": [
    "Pelos histogramas, podemos observar que existe um grande número de clientes novos e clientes mais antigos.\n",
    "Muitos clientes efetuam pagamento mensal baixo, de aproximadamente 20 (moeda local).\n",
    "Muitos clientes tem baixo valor total pago (abaixo de 1000)."
   ]
  },
  {
   "cell_type": "code",
   "execution_count": 106,
   "id": "fc8abf47",
   "metadata": {},
   "outputs": [
    {
     "data": {
      "image/png": "[encoded data removed]",
      "text/plain": [
       "<Figure size 1000x600 with 1 Axes>"
      ]
     },
     "metadata": {},
     "output_type": "display_data"
    }
   ],
   "source": [
    "tenure_bins = pd.cut(dados['tenure'], bins=4, labels=['Baixo', 'Médio-Baixo', 'Médio-Alto', 'Alto'])\n",
    "dados['tenure_bins'] = tenure_bins\n",
    "plt.figure(figsize=(10, 6))\n",
    "sns.barplot(x='tenure_bins', y='MonthlyCharges', data=dados, ci=None, palette='viridis')\n",
    "plt.title('Estratificação de Tenure pelo Histograma')\n",
    "plt.xlabel('Tenure Bins')\n",
    "plt.ylabel('Média de Pagamento Mensal')\n",
    "plt.show()"
   ]
  },
  {
   "cell_type": "code",
   "execution_count": 18,
   "id": "8ef38f69",
   "metadata": {},
   "outputs": [
    {
     "data": {
      "image/png": "[encoded data removed]",
      "text/plain": [
       "<Figure size 1000x600 with 1 Axes>"
      ]
     },
     "metadata": {},
     "output_type": "display_data"
    }
   ],
   "source": [
    "dados['Churn'] = dados['Churn'].astype('category')\n",
    "plt.figure(figsize=(10, 6))\n",
    "sns.countplot(x='tenure_bins', hue='Churn', data=dados, palette='viridis')\n",
    "plt.title('Estratificação de Tenure pelo Histograma considerando Churn')\n",
    "plt.xlabel('Tenure Bins')\n",
    "plt.ylabel('Contagem')\n",
    "plt.show()"
   ]
  },
  {
   "cell_type": "code",
   "execution_count": 151,
   "id": "f72b500a",
   "metadata": {},
   "outputs": [],
   "source": [
    "MonthlyCharges_bins = pd.cut(dados['MonthlyCharges'], bins=4, labels=['Baixo', 'Médio-Baixo', 'Médio-Alto', 'Alto'])\n",
    "dados['MonthlyCharges_bins'] = MonthlyCharges_bins"
   ]
  },
  {
   "cell_type": "markdown",
   "id": "50db596c",
   "metadata": {},
   "source": [
    "Observamos que os cliente novos tendem a ter pagamentos mensais mais baixos. E também tem mais churn, proporcionalmente, nessa faixa de tempo de permanência como cliente."
   ]
  },
  {
   "cell_type": "code",
   "execution_count": 19,
   "id": "1f0f77e5",
   "metadata": {},
   "outputs": [],
   "source": [
    "dados_1 = dados[(dados['InternetService'] != \"No\") \n",
    "                  & (dados['StreamingTV'] == \"Yes\") \n",
    "                  & (dados['StreamingMovies'] == \"Yes\")\n",
    "                  & (dados['PhoneService'] == \"Yes\")]"
   ]
  },
  {
   "cell_type": "code",
   "execution_count": 20,
   "id": "d6db82e2",
   "metadata": {},
   "outputs": [
    {
     "data": {
      "text/plain": [
       "(761, 22)"
      ]
     },
     "execution_count": 20,
     "metadata": {},
     "output_type": "execute_result"
    }
   ],
   "source": [
    "tenure = dados_1[(dados_1['tenure_bins'] == \"Alto\")]\n",
    "tenure.shape"
   ]
  },
  {
   "cell_type": "code",
   "execution_count": 21,
   "id": "8c829ca8",
   "metadata": {},
   "outputs": [
    {
     "name": "stdout",
     "output_type": "stream",
     "text": [
      "Valor Máximo: 72\n",
      "Valor Mínimo: 55\n"
     ]
    }
   ],
   "source": [
    "valor_maximo = tenure['tenure'].max()\n",
    "valor_minimo = tenure['tenure'].min()\n",
    "\n",
    "print(f\"Valor Máximo: {valor_maximo}\")\n",
    "print(f\"Valor Mínimo: {valor_minimo}\")"
   ]
  },
  {
   "cell_type": "code",
   "execution_count": 22,
   "id": "fd154397",
   "metadata": {},
   "outputs": [
    {
     "data": {
      "text/plain": [
       "(1740, 22)"
      ]
     },
     "execution_count": 22,
     "metadata": {},
     "output_type": "execute_result"
    }
   ],
   "source": [
    "dados_1.shape"
   ]
  },
  {
   "cell_type": "code",
   "execution_count": 23,
   "id": "3ce55ac8",
   "metadata": {},
   "outputs": [
    {
     "data": {
      "text/plain": [
       "(332, 22)"
      ]
     },
     "execution_count": 23,
     "metadata": {},
     "output_type": "execute_result"
    }
   ],
   "source": [
    "tenure = dados_1[(dados_1['tenure_bins'] == \"Baixo\")]\n",
    "tenure.shape"
   ]
  },
  {
   "cell_type": "code",
   "execution_count": 24,
   "id": "94da48c2",
   "metadata": {},
   "outputs": [
    {
     "data": {
      "text/plain": [
       "43.735632183908045"
      ]
     },
     "execution_count": 24,
     "metadata": {},
     "output_type": "execute_result"
    }
   ],
   "source": [
    "(761*100)/1740"
   ]
  },
  {
   "cell_type": "code",
   "execution_count": 25,
   "id": "d547aff3",
   "metadata": {},
   "outputs": [
    {
     "data": {
      "image/png": "[encoded data removed]",
      "text/plain": [
       "<Figure size 640x480 with 1 Axes>"
      ]
     },
     "metadata": {},
     "output_type": "display_data"
    }
   ],
   "source": [
    "churn_percentages = dados_1['Churn'].value_counts(normalize=True) * 100\n",
    "sns.barplot(x=churn_percentages.index, y=churn_percentages.values)\n",
    "plt.title('Porcentagem de Churn')\n",
    "plt.xlabel('Churn')\n",
    "plt.ylabel('Porcentagem')\n",
    "plt.show()"
   ]
  },
  {
   "cell_type": "markdown",
   "id": "0c1071bc",
   "metadata": {},
   "source": [
    "Considerando os cliente que tem mais de um produto, o churn parece ligeiramente mais alto, chegando a mais de 30%."
   ]
  },
  {
   "cell_type": "code",
   "execution_count": 26,
   "id": "7ab7a7c0",
   "metadata": {},
   "outputs": [
    {
     "data": {
      "image/png": "[encoded data removed]",
      "text/plain": [
       "<Figure size 1000x600 with 1 Axes>"
      ]
     },
     "metadata": {},
     "output_type": "display_data"
    }
   ],
   "source": [
    "tenure_bins = pd.cut(dados_1['tenure'], bins=4, labels=['Baixo', 'Médio-Baixo', 'Médio-Alto', 'Alto'])\n",
    "dados_1['tenure_bins'] = tenure_bins\n",
    "plt.figure(figsize=(10, 6))\n",
    "sns.barplot(x='tenure_bins', y='MonthlyCharges', data=dados_1, ci=None, palette='viridis')\n",
    "plt.title('Estratificação de Tenure pelo Histograma')\n",
    "plt.xlabel('Tenure Bins')\n",
    "plt.ylabel('Média de Pagamento Mensal')\n",
    "plt.show()"
   ]
  },
  {
   "cell_type": "markdown",
   "id": "7d613602",
   "metadata": {},
   "source": [
    "Os valores praticados com esses clientes não tem muita variação em relação ao tempo de cliente."
   ]
  },
  {
   "cell_type": "code",
   "execution_count": 27,
   "id": "07596dcb",
   "metadata": {},
   "outputs": [
    {
     "data": {
      "image/png": "[encoded data removed]",
      "text/plain": [
       "<Figure size 1000x600 with 1 Axes>"
      ]
     },
     "metadata": {},
     "output_type": "display_data"
    }
   ],
   "source": [
    "MonthlyCharges_bins = pd.cut(dados_1['MonthlyCharges'], bins=4, labels=['Baixo', 'Médio-Baixo', 'Médio-Alto', 'Alto'])\n",
    "dados_1['MonthlyCharges_bins'] = MonthlyCharges_bins\n",
    "dados_1['Churn'] = dados_1['Churn'].astype('category')\n",
    "\n",
    "# Plotar um gráfico de barras estratificado por bins do tenure e Churn\n",
    "plt.figure(figsize=(10, 6))\n",
    "sns.countplot(x='MonthlyCharges_bins', hue='Churn', data=dados_1, palette='viridis')\n",
    "plt.title('Estratificação de MonthlyCharges pelo Histograma considerando Churn')\n",
    "plt.xlabel('MonthlyCharges')\n",
    "plt.ylabel('Contagem')\n",
    "plt.show()"
   ]
  },
  {
   "cell_type": "markdown",
   "id": "de97b2d3",
   "metadata": {},
   "source": [
    "Mas o churn parece ligeiramente mais alto entre clientes que tem mais de um produto e em uma faixa média alta de valor, entre 90 e 105."
   ]
  },
  {
   "cell_type": "code",
   "execution_count": 28,
   "id": "7f88b2b8",
   "metadata": {},
   "outputs": [],
   "source": [
    "dados_2 = dados_1[(dados_1['tenure_bins'] == 'Alto')]"
   ]
  },
  {
   "cell_type": "code",
   "execution_count": 29,
   "id": "18f63c30",
   "metadata": {},
   "outputs": [
    {
     "data": {
      "text/plain": [
       "(761, 23)"
      ]
     },
     "execution_count": 29,
     "metadata": {},
     "output_type": "execute_result"
    }
   ],
   "source": [
    "dados_2.shape"
   ]
  },
  {
   "cell_type": "code",
   "execution_count": 30,
   "id": "87f762c7",
   "metadata": {},
   "outputs": [
    {
     "name": "stdout",
     "output_type": "stream",
     "text": [
      "Valor Máximo: 118.75\n",
      "Valor Mínimo: 70.1\n"
     ]
    }
   ],
   "source": [
    "valor_maximo = dados_2['MonthlyCharges'].max()\n",
    "valor_minimo = dados_2['MonthlyCharges'].min()\n",
    "\n",
    "print(f\"Valor Máximo: {valor_maximo}\")\n",
    "print(f\"Valor Mínimo: {valor_minimo}\")"
   ]
  },
  {
   "cell_type": "code",
   "execution_count": 31,
   "id": "54958d4c",
   "metadata": {},
   "outputs": [
    {
     "data": {
      "text/plain": [
       "(2734, 22)"
      ]
     },
     "execution_count": 31,
     "metadata": {},
     "output_type": "execute_result"
    }
   ],
   "source": [
    "dados_4 = dados[(dados['tenure_bins'] == 'Baixo')]\n",
    "dados_4.shape"
   ]
  },
  {
   "cell_type": "code",
   "execution_count": 32,
   "id": "9bffcf87",
   "metadata": {},
   "outputs": [],
   "source": [
    "dados_4 = dados_4[(dados_4['StreamingTV'] == \"Yes\") | (dados_4['StreamingMovies'] == \"Yes\")]"
   ]
  },
  {
   "cell_type": "code",
   "execution_count": 33,
   "id": "a481edac",
   "metadata": {},
   "outputs": [],
   "source": [
    "#dados_4 = dados_4[(dados_4['StreamingTV'] == \"\") & (dados_4['StreamingMovies'] == \"No\") \n",
    "#                  & (dados_4['InternetService'] != \"No\")  & (dados_4['PhoneService'] == \"Yes\")]"
   ]
  },
  {
   "cell_type": "code",
   "execution_count": 34,
   "id": "cfde1cbc",
   "metadata": {},
   "outputs": [
    {
     "data": {
      "text/plain": [
       "(957, 22)"
      ]
     },
     "execution_count": 34,
     "metadata": {},
     "output_type": "execute_result"
    }
   ],
   "source": [
    "dados_4.shape"
   ]
  },
  {
   "cell_type": "code",
   "execution_count": 35,
   "id": "989e0a13",
   "metadata": {},
   "outputs": [
    {
     "data": {
      "text/plain": [
       "35.00365764447696"
      ]
     },
     "execution_count": 35,
     "metadata": {},
     "output_type": "execute_result"
    }
   ],
   "source": [
    "(957*100)/2734"
   ]
  },
  {
   "cell_type": "code",
   "execution_count": 36,
   "id": "450fcd67",
   "metadata": {},
   "outputs": [
    {
     "name": "stdout",
     "output_type": "stream",
     "text": [
      "Valor Máximo: 112.95\n",
      "Valor Mínimo: 33.9\n"
     ]
    }
   ],
   "source": [
    "valor_maximo = dados_4['MonthlyCharges'].max()\n",
    "valor_minimo = dados_4['MonthlyCharges'].min()\n",
    "\n",
    "print(f\"Valor Máximo: {valor_maximo}\")\n",
    "\n",
    "print(f\"Valor Mínimo: {valor_minimo}\")"
   ]
  },
  {
   "cell_type": "code",
   "execution_count": 37,
   "id": "29e9b58a",
   "metadata": {},
   "outputs": [
    {
     "data": {
      "image/png": "[encoded data removed]",
      "text/plain": [
       "<Figure size 1000x600 with 1 Axes>"
      ]
     },
     "metadata": {},
     "output_type": "display_data"
    }
   ],
   "source": [
    "MonthlyCharges_bins = pd.cut(dados_4['MonthlyCharges'], bins=4, labels=['Baixo', 'Médio-Baixo', 'Médio-Alto', 'Alto'])\n",
    "dados_4['MonthlyCharges_bins'] = MonthlyCharges_bins\n",
    "dados_4['Churn'] = dados_4['Churn'].astype('category')\n",
    "plt.figure(figsize=(10, 6))\n",
    "sns.countplot(x='MonthlyCharges_bins', hue='Churn', data=dados_4, palette='Set1', edgecolor='w')\n",
    "\n",
    "# Adicione rótulos e título\n",
    "plt.title('Quantidade de Clientes por MonthlyCharges_bins e Churn')\n",
    "plt.xlabel('MonthlyCharges_bins')\n",
    "plt.ylabel('Quantidade de Clientes')\n",
    "plt.legend(title='Churn', loc='upper right')\n",
    "\n",
    "plt.show()"
   ]
  },
  {
   "cell_type": "code",
   "execution_count": 38,
   "id": "422747f3",
   "metadata": {},
   "outputs": [
    {
     "data": {
      "image/png": "[encoded data removed]",
      "text/plain": [
       "<Figure size 1000x600 with 1 Axes>"
      ]
     },
     "metadata": {},
     "output_type": "display_data"
    }
   ],
   "source": [
    "plt.figure(figsize=(10, 6))\n",
    "sns.countplot(x='Contract', hue='Churn', data=dados_4, palette='Set1', edgecolor='w')\n",
    "\n",
    "# Adicione rótulos e título\n",
    "plt.title('Quantidade de Clientes por Contract e Churn')\n",
    "plt.xlabel('Contract')\n",
    "plt.ylabel('Quantidade de Clientes')\n",
    "plt.legend(title='Churn', loc='upper right')\n",
    "\n",
    "plt.show()"
   ]
  },
  {
   "cell_type": "code",
   "execution_count": 39,
   "id": "31201de0",
   "metadata": {},
   "outputs": [],
   "source": [
    "dados_3 = dados[(dados['tenure_bins'] == 'Baixo') | (dados['tenure_bins'] == 'Alto')]"
   ]
  },
  {
   "cell_type": "code",
   "execution_count": 40,
   "id": "0b931a17",
   "metadata": {},
   "outputs": [
    {
     "data": {
      "text/plain": [
       "(4553, 22)"
      ]
     },
     "execution_count": 40,
     "metadata": {},
     "output_type": "execute_result"
    }
   ],
   "source": [
    "dados_3.shape"
   ]
  },
  {
   "cell_type": "code",
   "execution_count": 41,
   "id": "b6e2e4ed",
   "metadata": {},
   "outputs": [],
   "source": [
    "dados_3 = dados_3[(dados_3['OnlineSecurity'] == \"Yes\") \n",
    "                  & (dados_3['OnlineBackup'] == \"Yes\") \n",
    "                  & (dados_3['DeviceProtection'] == \"Yes\")\n",
    "                  & (dados_3['TechSupport'] == \"Yes\")]"
   ]
  },
  {
   "cell_type": "code",
   "execution_count": 42,
   "id": "de6aec07",
   "metadata": {},
   "outputs": [
    {
     "data": {
      "image/png": "[encoded data removed]",
      "text/plain": [
       "<Figure size 1000x600 with 1 Axes>"
      ]
     },
     "metadata": {},
     "output_type": "display_data"
    }
   ],
   "source": [
    "plt.figure(figsize=(10, 6))\n",
    "sns.countplot(x='tenure_bins', hue='Churn', data=dados_3, palette='Set1', edgecolor='w')\n",
    "\n",
    "# Adicione rótulos e título\n",
    "plt.title('Quantidade de Clientes por Tenure Bins e Churn')\n",
    "plt.xlabel('Tenure Bins')\n",
    "plt.ylabel('Quantidade de Clientes')\n",
    "plt.legend(title='Churn', loc='upper right')\n",
    "\n",
    "plt.show()"
   ]
  },
  {
   "cell_type": "markdown",
   "id": "6268d5a7",
   "metadata": {},
   "source": [
    "É possível estabelecer algumas correlações entre as variáveis numéricas, como entre TotalCharges e tenure. Como observamos, quanto maior o tempo na empresa, maior o pagamento mensal."
   ]
  },
  {
   "cell_type": "code",
   "execution_count": 43,
   "id": "8626614d",
   "metadata": {},
   "outputs": [
    {
     "data": {
      "image/png": "[encoded data removed]",
      "text/plain": [
       "<Figure size 640x480 with 2 Axes>"
      ]
     },
     "metadata": {},
     "output_type": "display_data"
    }
   ],
   "source": [
    "correlacao = dados[['MonthlyCharges','TotalCharges', 'tenure']].corr()\n",
    "sns.heatmap(correlacao, annot=True, cmap='coolwarm')\n",
    "plt.title('Heatmap de Correlação')\n",
    "plt.show()"
   ]
  },
  {
   "cell_type": "markdown",
   "id": "1a8c90c9",
   "metadata": {},
   "source": [
    "# Treinamento dos modelos"
   ]
  },
  {
   "cell_type": "markdown",
   "id": "a782e1f0",
   "metadata": {},
   "source": [
    "# Todos os clientes"
   ]
  },
  {
   "cell_type": "code",
   "execution_count": 107,
   "id": "32dfae20",
   "metadata": {},
   "outputs": [],
   "source": [
    "def split(data, target_variable):\n",
    "    X_train, X_test, y_train, y_test = train_test_split(\n",
    "                                                    data[columns_to_model], \n",
    "                                                    data[target_variable], \n",
    "                                                    stratify=data[target_variable], \n",
    "                                                    random_state=42\n",
    "                                                    )\n",
    "    return X_train, X_test, y_train, y_test"
   ]
  },
  {
   "cell_type": "code",
   "execution_count": 182,
   "id": "54833336",
   "metadata": {},
   "outputs": [],
   "source": [
    "columns_to_model = ['Partner', 'Dependents', 'PhoneService', 'MultipleLines', \n",
    "                    'InternetService', 'OnlineSecurity', 'OnlineBackup', 'DeviceProtection',\n",
    "                    'TechSupport', 'StreamingTV', 'StreamingMovies',        'Contract',\n",
    "                    'PaperlessBilling',     'PaymentMethod', 'Churn',\n",
    "                   'SeniorCitizen', 'tenure',  'MonthlyCharges',  'TotalCharges', 'MonthlyCharges_bins']\n",
    "\n",
    "X_train, X_test, y_train, y_test = split(data=dados[columns_to_model],  target_variable='Churn')"
   ]
  },
  {
   "cell_type": "code",
   "execution_count": 163,
   "id": "9e496ea8",
   "metadata": {},
   "outputs": [
    {
     "data": {
      "text/html": [
       "<div>\n",
       "<style scoped>\n",
       "    .dataframe tbody tr th:only-of-type {\n",
       "        vertical-align: middle;\n",
       "    }\n",
       "\n",
       "    .dataframe tbody tr th {\n",
       "        vertical-align: top;\n",
       "    }\n",
       "\n",
       "    .dataframe thead th {\n",
       "        text-align: right;\n",
       "    }\n",
       "</style>\n",
       "<table border=\"1\" class=\"dataframe\">\n",
       "  <thead>\n",
       "    <tr style=\"text-align: right;\">\n",
       "      <th></th>\n",
       "      <th>Partner</th>\n",
       "      <th>Dependents</th>\n",
       "      <th>PhoneService</th>\n",
       "      <th>MultipleLines</th>\n",
       "      <th>InternetService</th>\n",
       "      <th>OnlineSecurity</th>\n",
       "      <th>OnlineBackup</th>\n",
       "      <th>DeviceProtection</th>\n",
       "      <th>TechSupport</th>\n",
       "      <th>StreamingTV</th>\n",
       "      <th>StreamingMovies</th>\n",
       "      <th>Contract</th>\n",
       "      <th>PaperlessBilling</th>\n",
       "      <th>PaymentMethod</th>\n",
       "      <th>Churn</th>\n",
       "      <th>SeniorCitizen</th>\n",
       "      <th>tenure</th>\n",
       "      <th>MonthlyCharges</th>\n",
       "      <th>TotalCharges</th>\n",
       "      <th>MonthlyCharges_bins</th>\n",
       "    </tr>\n",
       "  </thead>\n",
       "  <tbody>\n",
       "    <tr>\n",
       "      <th>6736</th>\n",
       "      <td>Yes</td>\n",
       "      <td>Yes</td>\n",
       "      <td>Yes</td>\n",
       "      <td>No</td>\n",
       "      <td>No</td>\n",
       "      <td>No internet service</td>\n",
       "      <td>No internet service</td>\n",
       "      <td>No internet service</td>\n",
       "      <td>No internet service</td>\n",
       "      <td>No internet service</td>\n",
       "      <td>No internet service</td>\n",
       "      <td>One year</td>\n",
       "      <td>No</td>\n",
       "      <td>Credit card (automatic)</td>\n",
       "      <td>No</td>\n",
       "      <td>0</td>\n",
       "      <td>38</td>\n",
       "      <td>19.60</td>\n",
       "      <td>763.10</td>\n",
       "      <td>Baixo</td>\n",
       "    </tr>\n",
       "    <tr>\n",
       "      <th>3564</th>\n",
       "      <td>No</td>\n",
       "      <td>No</td>\n",
       "      <td>Yes</td>\n",
       "      <td>No</td>\n",
       "      <td>Fiber optic</td>\n",
       "      <td>No</td>\n",
       "      <td>No</td>\n",
       "      <td>No</td>\n",
       "      <td>No</td>\n",
       "      <td>No</td>\n",
       "      <td>No</td>\n",
       "      <td>Month-to-month</td>\n",
       "      <td>Yes</td>\n",
       "      <td>Mailed check</td>\n",
       "      <td>Yes</td>\n",
       "      <td>0</td>\n",
       "      <td>1</td>\n",
       "      <td>70.15</td>\n",
       "      <td>70.15</td>\n",
       "      <td>Médio-Alto</td>\n",
       "    </tr>\n",
       "    <tr>\n",
       "      <th>2446</th>\n",
       "      <td>Yes</td>\n",
       "      <td>Yes</td>\n",
       "      <td>Yes</td>\n",
       "      <td>Yes</td>\n",
       "      <td>Fiber optic</td>\n",
       "      <td>Yes</td>\n",
       "      <td>No</td>\n",
       "      <td>No</td>\n",
       "      <td>No</td>\n",
       "      <td>No</td>\n",
       "      <td>No</td>\n",
       "      <td>One year</td>\n",
       "      <td>No</td>\n",
       "      <td>Credit card (automatic)</td>\n",
       "      <td>No</td>\n",
       "      <td>0</td>\n",
       "      <td>23</td>\n",
       "      <td>81.85</td>\n",
       "      <td>1810.85</td>\n",
       "      <td>Médio-Alto</td>\n",
       "    </tr>\n",
       "    <tr>\n",
       "      <th>1488</th>\n",
       "      <td>No</td>\n",
       "      <td>No</td>\n",
       "      <td>Yes</td>\n",
       "      <td>Yes</td>\n",
       "      <td>Fiber optic</td>\n",
       "      <td>No</td>\n",
       "      <td>Yes</td>\n",
       "      <td>No</td>\n",
       "      <td>Yes</td>\n",
       "      <td>No</td>\n",
       "      <td>Yes</td>\n",
       "      <td>Month-to-month</td>\n",
       "      <td>Yes</td>\n",
       "      <td>Electronic check</td>\n",
       "      <td>Yes</td>\n",
       "      <td>0</td>\n",
       "      <td>4</td>\n",
       "      <td>93.50</td>\n",
       "      <td>362.20</td>\n",
       "      <td>Médio-Alto</td>\n",
       "    </tr>\n",
       "    <tr>\n",
       "      <th>5877</th>\n",
       "      <td>No</td>\n",
       "      <td>No</td>\n",
       "      <td>Yes</td>\n",
       "      <td>No</td>\n",
       "      <td>No</td>\n",
       "      <td>No internet service</td>\n",
       "      <td>No internet service</td>\n",
       "      <td>No internet service</td>\n",
       "      <td>No internet service</td>\n",
       "      <td>No internet service</td>\n",
       "      <td>No internet service</td>\n",
       "      <td>Month-to-month</td>\n",
       "      <td>No</td>\n",
       "      <td>Mailed check</td>\n",
       "      <td>Yes</td>\n",
       "      <td>0</td>\n",
       "      <td>5</td>\n",
       "      <td>21.05</td>\n",
       "      <td>113.85</td>\n",
       "      <td>Baixo</td>\n",
       "    </tr>\n",
       "  </tbody>\n",
       "</table>\n",
       "</div>"
      ],
      "text/plain": [
       "     Partner Dependents PhoneService MultipleLines InternetService  \\\n",
       "6736     Yes        Yes          Yes            No              No   \n",
       "3564      No         No          Yes            No     Fiber optic   \n",
       "2446     Yes        Yes          Yes           Yes     Fiber optic   \n",
       "1488      No         No          Yes           Yes     Fiber optic   \n",
       "5877      No         No          Yes            No              No   \n",
       "\n",
       "           OnlineSecurity         OnlineBackup     DeviceProtection  \\\n",
       "6736  No internet service  No internet service  No internet service   \n",
       "3564                   No                   No                   No   \n",
       "2446                  Yes                   No                   No   \n",
       "1488                   No                  Yes                   No   \n",
       "5877  No internet service  No internet service  No internet service   \n",
       "\n",
       "              TechSupport          StreamingTV      StreamingMovies  \\\n",
       "6736  No internet service  No internet service  No internet service   \n",
       "3564                   No                   No                   No   \n",
       "2446                   No                   No                   No   \n",
       "1488                  Yes                   No                  Yes   \n",
       "5877  No internet service  No internet service  No internet service   \n",
       "\n",
       "            Contract PaperlessBilling            PaymentMethod Churn  \\\n",
       "6736        One year               No  Credit card (automatic)    No   \n",
       "3564  Month-to-month              Yes             Mailed check   Yes   \n",
       "2446        One year               No  Credit card (automatic)    No   \n",
       "1488  Month-to-month              Yes         Electronic check   Yes   \n",
       "5877  Month-to-month               No             Mailed check   Yes   \n",
       "\n",
       "      SeniorCitizen  tenure  MonthlyCharges  TotalCharges MonthlyCharges_bins  \n",
       "6736              0      38           19.60        763.10               Baixo  \n",
       "3564              0       1           70.15         70.15          Médio-Alto  \n",
       "2446              0      23           81.85       1810.85          Médio-Alto  \n",
       "1488              0       4           93.50        362.20          Médio-Alto  \n",
       "5877              0       5           21.05        113.85               Baixo  "
      ]
     },
     "execution_count": 163,
     "metadata": {},
     "output_type": "execute_result"
    }
   ],
   "source": [
    "X_train.head()"
   ]
  },
  {
   "cell_type": "code",
   "execution_count": 183,
   "id": "71ef2eb3",
   "metadata": {},
   "outputs": [],
   "source": [
    "X_train.reset_index(drop=True, inplace=True)\n",
    "X_test.reset_index(drop=True, inplace=True)"
   ]
  },
  {
   "cell_type": "code",
   "execution_count": 165,
   "id": "f0218ff9",
   "metadata": {},
   "outputs": [
    {
     "data": {
      "text/html": [
       "<div>\n",
       "<style scoped>\n",
       "    .dataframe tbody tr th:only-of-type {\n",
       "        vertical-align: middle;\n",
       "    }\n",
       "\n",
       "    .dataframe tbody tr th {\n",
       "        vertical-align: top;\n",
       "    }\n",
       "\n",
       "    .dataframe thead th {\n",
       "        text-align: right;\n",
       "    }\n",
       "</style>\n",
       "<table border=\"1\" class=\"dataframe\">\n",
       "  <thead>\n",
       "    <tr style=\"text-align: right;\">\n",
       "      <th></th>\n",
       "      <th>Partner</th>\n",
       "      <th>Dependents</th>\n",
       "      <th>PhoneService</th>\n",
       "      <th>MultipleLines</th>\n",
       "      <th>InternetService</th>\n",
       "      <th>OnlineSecurity</th>\n",
       "      <th>OnlineBackup</th>\n",
       "      <th>DeviceProtection</th>\n",
       "      <th>TechSupport</th>\n",
       "      <th>StreamingTV</th>\n",
       "      <th>StreamingMovies</th>\n",
       "      <th>Contract</th>\n",
       "      <th>PaperlessBilling</th>\n",
       "      <th>PaymentMethod</th>\n",
       "      <th>Churn</th>\n",
       "      <th>SeniorCitizen</th>\n",
       "      <th>tenure</th>\n",
       "      <th>MonthlyCharges</th>\n",
       "      <th>TotalCharges</th>\n",
       "      <th>MonthlyCharges_bins</th>\n",
       "    </tr>\n",
       "  </thead>\n",
       "  <tbody>\n",
       "    <tr>\n",
       "      <th>0</th>\n",
       "      <td>Yes</td>\n",
       "      <td>Yes</td>\n",
       "      <td>Yes</td>\n",
       "      <td>No</td>\n",
       "      <td>No</td>\n",
       "      <td>No internet service</td>\n",
       "      <td>No internet service</td>\n",
       "      <td>No internet service</td>\n",
       "      <td>No internet service</td>\n",
       "      <td>No internet service</td>\n",
       "      <td>No internet service</td>\n",
       "      <td>One year</td>\n",
       "      <td>No</td>\n",
       "      <td>Credit card (automatic)</td>\n",
       "      <td>No</td>\n",
       "      <td>0</td>\n",
       "      <td>38</td>\n",
       "      <td>19.60</td>\n",
       "      <td>763.10</td>\n",
       "      <td>Baixo</td>\n",
       "    </tr>\n",
       "    <tr>\n",
       "      <th>1</th>\n",
       "      <td>No</td>\n",
       "      <td>No</td>\n",
       "      <td>Yes</td>\n",
       "      <td>No</td>\n",
       "      <td>Fiber optic</td>\n",
       "      <td>No</td>\n",
       "      <td>No</td>\n",
       "      <td>No</td>\n",
       "      <td>No</td>\n",
       "      <td>No</td>\n",
       "      <td>No</td>\n",
       "      <td>Month-to-month</td>\n",
       "      <td>Yes</td>\n",
       "      <td>Mailed check</td>\n",
       "      <td>Yes</td>\n",
       "      <td>0</td>\n",
       "      <td>1</td>\n",
       "      <td>70.15</td>\n",
       "      <td>70.15</td>\n",
       "      <td>Médio-Alto</td>\n",
       "    </tr>\n",
       "    <tr>\n",
       "      <th>2</th>\n",
       "      <td>Yes</td>\n",
       "      <td>Yes</td>\n",
       "      <td>Yes</td>\n",
       "      <td>Yes</td>\n",
       "      <td>Fiber optic</td>\n",
       "      <td>Yes</td>\n",
       "      <td>No</td>\n",
       "      <td>No</td>\n",
       "      <td>No</td>\n",
       "      <td>No</td>\n",
       "      <td>No</td>\n",
       "      <td>One year</td>\n",
       "      <td>No</td>\n",
       "      <td>Credit card (automatic)</td>\n",
       "      <td>No</td>\n",
       "      <td>0</td>\n",
       "      <td>23</td>\n",
       "      <td>81.85</td>\n",
       "      <td>1810.85</td>\n",
       "      <td>Médio-Alto</td>\n",
       "    </tr>\n",
       "    <tr>\n",
       "      <th>3</th>\n",
       "      <td>No</td>\n",
       "      <td>No</td>\n",
       "      <td>Yes</td>\n",
       "      <td>Yes</td>\n",
       "      <td>Fiber optic</td>\n",
       "      <td>No</td>\n",
       "      <td>Yes</td>\n",
       "      <td>No</td>\n",
       "      <td>Yes</td>\n",
       "      <td>No</td>\n",
       "      <td>Yes</td>\n",
       "      <td>Month-to-month</td>\n",
       "      <td>Yes</td>\n",
       "      <td>Electronic check</td>\n",
       "      <td>Yes</td>\n",
       "      <td>0</td>\n",
       "      <td>4</td>\n",
       "      <td>93.50</td>\n",
       "      <td>362.20</td>\n",
       "      <td>Médio-Alto</td>\n",
       "    </tr>\n",
       "    <tr>\n",
       "      <th>4</th>\n",
       "      <td>No</td>\n",
       "      <td>No</td>\n",
       "      <td>Yes</td>\n",
       "      <td>No</td>\n",
       "      <td>No</td>\n",
       "      <td>No internet service</td>\n",
       "      <td>No internet service</td>\n",
       "      <td>No internet service</td>\n",
       "      <td>No internet service</td>\n",
       "      <td>No internet service</td>\n",
       "      <td>No internet service</td>\n",
       "      <td>Month-to-month</td>\n",
       "      <td>No</td>\n",
       "      <td>Mailed check</td>\n",
       "      <td>Yes</td>\n",
       "      <td>0</td>\n",
       "      <td>5</td>\n",
       "      <td>21.05</td>\n",
       "      <td>113.85</td>\n",
       "      <td>Baixo</td>\n",
       "    </tr>\n",
       "  </tbody>\n",
       "</table>\n",
       "</div>"
      ],
      "text/plain": [
       "  Partner Dependents PhoneService MultipleLines InternetService  \\\n",
       "0     Yes        Yes          Yes            No              No   \n",
       "1      No         No          Yes            No     Fiber optic   \n",
       "2     Yes        Yes          Yes           Yes     Fiber optic   \n",
       "3      No         No          Yes           Yes     Fiber optic   \n",
       "4      No         No          Yes            No              No   \n",
       "\n",
       "        OnlineSecurity         OnlineBackup     DeviceProtection  \\\n",
       "0  No internet service  No internet service  No internet service   \n",
       "1                   No                   No                   No   \n",
       "2                  Yes                   No                   No   \n",
       "3                   No                  Yes                   No   \n",
       "4  No internet service  No internet service  No internet service   \n",
       "\n",
       "           TechSupport          StreamingTV      StreamingMovies  \\\n",
       "0  No internet service  No internet service  No internet service   \n",
       "1                   No                   No                   No   \n",
       "2                   No                   No                   No   \n",
       "3                  Yes                   No                  Yes   \n",
       "4  No internet service  No internet service  No internet service   \n",
       "\n",
       "         Contract PaperlessBilling            PaymentMethod Churn  \\\n",
       "0        One year               No  Credit card (automatic)    No   \n",
       "1  Month-to-month              Yes             Mailed check   Yes   \n",
       "2        One year               No  Credit card (automatic)    No   \n",
       "3  Month-to-month              Yes         Electronic check   Yes   \n",
       "4  Month-to-month               No             Mailed check   Yes   \n",
       "\n",
       "   SeniorCitizen  tenure  MonthlyCharges  TotalCharges MonthlyCharges_bins  \n",
       "0              0      38           19.60        763.10               Baixo  \n",
       "1              0       1           70.15         70.15          Médio-Alto  \n",
       "2              0      23           81.85       1810.85          Médio-Alto  \n",
       "3              0       4           93.50        362.20          Médio-Alto  \n",
       "4              0       5           21.05        113.85               Baixo  "
      ]
     },
     "execution_count": 165,
     "metadata": {},
     "output_type": "execute_result"
    }
   ],
   "source": [
    "X_train.head()"
   ]
  },
  {
   "cell_type": "code",
   "execution_count": 184,
   "id": "b0428ead",
   "metadata": {},
   "outputs": [],
   "source": [
    "selected_columns = ['tenure', 'MonthlyCharges', 'TotalCharges']\n",
    "X_train_subset = X_train[selected_columns]\n",
    "scaler = StandardScaler()\n",
    "X_train[['tenure_scaler','MonthlyCharges_scaler','TotalCharges_scaler']] = pd.DataFrame(scaler.fit_transform(X_train_subset), columns=selected_columns)\n",
    "X_train = X_train.drop(['tenure','MonthlyCharges','TotalCharges', 'Churn'], axis=1)"
   ]
  },
  {
   "cell_type": "code",
   "execution_count": 185,
   "id": "ee8f4214",
   "metadata": {},
   "outputs": [],
   "source": [
    "selected_columns = ['tenure', 'MonthlyCharges', 'TotalCharges']\n",
    "X_test_subset = X_test[selected_columns]\n",
    "scaler = StandardScaler()\n",
    "X_test[['tenure_scaler','MonthlyCharges_scaler','TotalCharges_scaler']] = pd.DataFrame(scaler.fit_transform(X_test_subset), columns=selected_columns)\n",
    "X_test = X_test.drop(['tenure','MonthlyCharges','TotalCharges', 'Churn'], axis=1)"
   ]
  },
  {
   "cell_type": "code",
   "execution_count": 186,
   "id": "c41d4186",
   "metadata": {},
   "outputs": [],
   "source": [
    "y_train = y_train.replace('No', 0).replace('Yes', 1)\n",
    "y_test = y_test.replace('No', 0).replace('Yes', 1)"
   ]
  },
  {
   "cell_type": "code",
   "execution_count": 177,
   "id": "3eff3504",
   "metadata": {},
   "outputs": [
    {
     "name": "stdout",
     "output_type": "stream",
     "text": [
      "<class 'xgboost.sklearn.XGBClassifier'>\n",
      "Metrics:\n",
      "              precision    recall  f1-score   support\n",
      "\n",
      "           0       0.88      0.84      0.86      1294\n",
      "           1       0.60      0.67      0.63       467\n",
      "\n",
      "    accuracy                           0.80      1761\n",
      "   macro avg       0.74      0.76      0.75      1761\n",
      "weighted avg       0.80      0.80      0.80      1761\n",
      "\n",
      "Feature Importances:\n",
      "Partner: 0.029812658205628395\n",
      "Dependents: 0.0\n",
      "PhoneService: 0.02323005348443985\n",
      "MultipleLines: 0.0\n",
      "InternetService: 0.0032131958287209272\n",
      "OnlineSecurity: 0.0\n",
      "OnlineBackup: 0.025439459830522537\n",
      "DeviceProtection: 0.0\n",
      "TechSupport: 0.005160347558557987\n",
      "StreamingTV: 0.020773185417056084\n",
      "StreamingMovies: 0.05927716940641403\n",
      "Contract: 0.006986470893025398\n",
      "PaperlessBilling: 0.07863456755876541\n",
      "PaymentMethod: 0.0\n",
      "SeniorCitizen: 0.008972028270363808\n",
      "<class 'sklearn.linear_model._logistic.LogisticRegression'>\n",
      "Metrics:\n",
      "              precision    recall  f1-score   support\n",
      "\n",
      "           0       0.90      0.75      0.82      1294\n",
      "           1       0.53      0.78      0.63       467\n",
      "\n",
      "    accuracy                           0.76      1761\n",
      "   macro avg       0.72      0.77      0.73      1761\n",
      "weighted avg       0.81      0.76      0.77      1761\n",
      "\n",
      "Feature Importances:\n",
      "OnlineSecurity: 1.2449411513597746\n",
      "MonthlyCharges_scaler: 0.48091679480895233\n",
      "MultipleLines: -0.3643010650556298\n",
      "PhoneService: -0.35225494926236817\n",
      "TechSupport: -0.34612777331533884\n",
      "InternetService: 0.2847656900337131\n",
      "OnlineBackup: -0.24638780872837152\n",
      "DeviceProtection: -0.24638780872837152\n",
      "StreamingTV: -0.24638780872837152\n",
      "Contract: -0.24638780872837152\n",
      "PaymentMethod: -0.24638780872837152\n",
      "tenure_scaler: -0.24638780872837152\n",
      "TotalCharges_scaler: -0.24638780872837152\n",
      "Dependents: -0.2271544195713689\n",
      "SeniorCitizen: -0.20407029370781932\n",
      "PaperlessBilling: 0.12516685673055075\n",
      "Partner: 0.04111366146182973\n",
      "StreamingMovies: -0.03632010140793475\n",
      "<class 'sklearn.ensemble._forest.RandomForestClassifier'>\n",
      "Metrics:\n",
      "              precision    recall  f1-score   support\n",
      "\n",
      "           0       0.90      0.73      0.81      1294\n",
      "           1       0.51      0.77      0.61       467\n",
      "\n",
      "    accuracy                           0.74      1761\n",
      "   macro avg       0.70      0.75      0.71      1761\n",
      "weighted avg       0.80      0.74      0.76      1761\n",
      "\n",
      "Feature Importances:\n",
      "Partner: 0.004029115033003619\n",
      "Dependents: 0.002947180959058005\n",
      "PhoneService: 0.0042881462356557255\n",
      "MultipleLines: 0.005157268626422082\n",
      "InternetService: 0.0003430031414996738\n",
      "OnlineSecurity: 7.209080276893779e-05\n",
      "OnlineBackup: 0.0007031339605715652\n",
      "DeviceProtection: 0.00011291707329883181\n",
      "TechSupport: 0.0008680031336661848\n",
      "StreamingTV: 0.010256338076936657\n",
      "StreamingMovies: 0.039246220158986274\n",
      "Contract: 0.019213044797844633\n",
      "PaperlessBilling: 0.08830821314897061\n",
      "PaymentMethod: 0.014873553583635214\n",
      "SeniorCitizen: 0.018801779033554525\n"
     ]
    }
   ],
   "source": [
    "from xgboost import XGBClassifier\n",
    "from imblearn.pipeline import Pipeline\n",
    "from sklearn.linear_model import LogisticRegression\n",
    "from sklearn.ensemble import RandomForestClassifier\n",
    "\n",
    "columns_to_encoder=['Partner', 'Dependents', 'PhoneService', 'MultipleLines', \n",
    "                        'InternetService', 'OnlineSecurity', 'OnlineBackup', 'DeviceProtection',\n",
    "                       'TechSupport', 'StreamingTV', 'StreamingMovies',        'Contract',\n",
    "                       'PaperlessBilling',     'PaymentMethod', 'SeniorCitizen']\n",
    "\n",
    "list_models = [XGBClassifier, LogisticRegression, RandomForestClassifier]\n",
    "\n",
    "for model in list_models:\n",
    "\n",
    "    if model == LogisticRegression:\n",
    "        preprocessor = ColumnTransformer(\n",
    "            transformers=[('cat', OneHotEncoder(drop='first'), columns_to_encoder)],\n",
    "            remainder='passthrough')\n",
    "        \n",
    "        params = {'classifier__C': [0.001, 0.01, 0.1, 1, 10, 100],\n",
    "                  'classifier__penalty': ['l1', 'l2']}\n",
    "        \n",
    "    if model == RandomForestClassifier:\n",
    "        preprocessor = ColumnTransformer(\n",
    "            transformers=[('cat', OneHotEncoder(), columns_to_encoder)],\n",
    "            remainder='passthrough')\n",
    "        \n",
    "        params = {'classifier__n_estimators': [50, 100, 200],\n",
    "                  'classifier__max_depth': [4, 6, 8],\n",
    "                  'classifier__max_features': [6, 8, 10],\n",
    "                  'classifier__max_features': ['sqrt', 'log2']}\n",
    "        \n",
    "    if model == XGBClassifier:\n",
    "        preprocessor = ColumnTransformer(\n",
    "            transformers=[('cat', OneHotEncoder(), columns_to_encoder)],\n",
    "            remainder='passthrough')\n",
    "        \n",
    "        params = {'classifier__n_estimators': [50, 100, 200],\n",
    "                      'classifier__max_depth': [4, 6, 8]}\n",
    "    \n",
    "    pipeline = Pipeline([\n",
    "        ('preprocessor', preprocessor),\n",
    "        ('smote', SMOTE(random_state=42)),\n",
    "        ('classifier', model())])\n",
    "\n",
    "    grid_search = GridSearchCV(pipeline, param_grid=params, cv=5, scoring='recall')\n",
    "    grid_search.fit(X_train, y_train)\n",
    "    predict_test = grid_search.predict(X_test) \n",
    "     \n",
    "    if model == LogisticRegression:\n",
    "        print(model)\n",
    "        print(\"Metrics:\")\n",
    "        print(classification_report(y_true = y_test, y_pred = predict_test))\n",
    "        best_model = grid_search.best_estimator_\n",
    "        modelo_logistico = best_model.named_steps['classifier']\n",
    "        coefs = modelo_logistico.coef_\n",
    "        feature_importances = dict(zip(X_train.columns, coefs[0]))\n",
    "        print(\"Feature Importances:\")\n",
    "        for feature, importance in sorted(feature_importances.items(), key=lambda x: abs(x[1]), reverse=True):\n",
    "            print(f'{feature}: {importance}')\n",
    "            \n",
    "    else:\n",
    "        print(model)\n",
    "        print(\"Metrics:\")\n",
    "        print(classification_report(y_true = y_test, y_pred = predict_test))\n",
    "        feature_importances = grid_search.best_estimator_.named_steps['classifier'].feature_importances_\n",
    "        print(\"Feature Importances:\")\n",
    "        for feature, importance in zip(columns_to_encoder, feature_importances):\n",
    "            print(f\"{feature}: {importance}\")"
   ]
  },
  {
   "cell_type": "code",
   "execution_count": 178,
   "id": "69e86e1c",
   "metadata": {},
   "outputs": [
    {
     "data": {
      "text/plain": [
       "1761"
      ]
     },
     "execution_count": 178,
     "metadata": {},
     "output_type": "execute_result"
    }
   ],
   "source": [
    "len(predict_test)"
   ]
  },
  {
   "cell_type": "code",
   "execution_count": 179,
   "id": "2a4dbb8b",
   "metadata": {},
   "outputs": [
    {
     "data": {
      "text/plain": [
       "708"
      ]
     },
     "execution_count": 179,
     "metadata": {},
     "output_type": "execute_result"
    }
   ],
   "source": [
    "len(list(filter(lambda x: x == 1, predict_test)))"
   ]
  },
  {
   "cell_type": "code",
   "execution_count": 180,
   "id": "10f98479",
   "metadata": {},
   "outputs": [
    {
     "data": {
      "text/plain": [
       "545.16"
      ]
     },
     "execution_count": 180,
     "metadata": {},
     "output_type": "execute_result"
    }
   ],
   "source": [
    "708*0.77"
   ]
  },
  {
   "cell_type": "code",
   "execution_count": 181,
   "id": "cc72bed5",
   "metadata": {},
   "outputs": [
    {
     "data": {
      "text/plain": [
       "0.3094832481544577"
      ]
     },
     "execution_count": 181,
     "metadata": {},
     "output_type": "execute_result"
    }
   ],
   "source": [
    "545/1761"
   ]
  },
  {
   "cell_type": "markdown",
   "id": "90e9916d",
   "metadata": {},
   "source": [
    "Churn de 30%"
   ]
  },
  {
   "cell_type": "code",
   "execution_count": 187,
   "id": "8b09cb44",
   "metadata": {},
   "outputs": [],
   "source": [
    "predict_refatorado = X_test"
   ]
  },
  {
   "cell_type": "code",
   "execution_count": 188,
   "id": "9e4dd4b7",
   "metadata": {},
   "outputs": [],
   "source": [
    "predict_refatorado.loc[predict_refatorado['MonthlyCharges_bins'] == 'Alto-Médio', 'MonthlyCharges_scaler'] = 0.11798599631889342"
   ]
  },
  {
   "cell_type": "code",
   "execution_count": 201,
   "id": "facdf025",
   "metadata": {},
   "outputs": [],
   "source": [
    "predict_refatorado['InternetService'] = predict_refatorado['InternetService'].replace('No', 'DSL')\n",
    "predict_refatorado['StreamingTV'] = predict_refatorado['StreamingTV'].replace('No', 'Yes')\n",
    "predict_refatorado['StreamingMovies'] = predict_refatorado['StreamingMovies'].replace('No', 'Yes')\n",
    "predict_refatorado['PhoneService'] = predict_refatorado['PhoneService'].replace('No', 'Yes')\n",
    "predict_refatorado['OnlineSecurity'] = predict_refatorado['OnlineSecurity'].replace('No', 'Yes')\n",
    "predict_refatorado['OnlineBackup'] = predict_refatorado['OnlineBackup'].replace('No', 'Yes')\n",
    "predict_refatorado['DeviceProtection'] = predict_refatorado['DeviceProtection'].replace('No', 'Yes')\n",
    "predict_refatorado['TechSupport'] = predict_refatorado['TechSupport'].replace('No', 'Yes')\n",
    "predict_refatorado['TechSupport'] = predict_refatorado['TechSupport'].replace('No', 'Yes')\n",
    "predict_refatorado['Contract'] = predict_refatorado['Contract'].replace('Month-to-month', 'Two year')\n",
    "predict_refatorado['PaymentMethod'] = 'Credit card (automatic)'"
   ]
  },
  {
   "cell_type": "code",
   "execution_count": 190,
   "id": "4aef7286",
   "metadata": {},
   "outputs": [],
   "source": [
    "predict_refatorado = predict_refatorado.drop(['MonthlyCharges_bins'],axis=1)"
   ]
  },
  {
   "cell_type": "code",
   "execution_count": 202,
   "id": "e0bb558c",
   "metadata": {},
   "outputs": [],
   "source": [
    "predict = grid_search.predict(predict_refatorado) "
   ]
  },
  {
   "cell_type": "code",
   "execution_count": 203,
   "id": "99845c6a",
   "metadata": {},
   "outputs": [
    {
     "data": {
      "text/plain": [
       "1761"
      ]
     },
     "execution_count": 203,
     "metadata": {},
     "output_type": "execute_result"
    }
   ],
   "source": [
    "len(predict)"
   ]
  },
  {
   "cell_type": "code",
   "execution_count": 204,
   "id": "bdb40a01",
   "metadata": {},
   "outputs": [
    {
     "data": {
      "text/plain": [
       "0"
      ]
     },
     "execution_count": 204,
     "metadata": {},
     "output_type": "execute_result"
    }
   ],
   "source": [
    "len(list(filter(lambda x: x == 1, predict)))"
   ]
  },
  {
   "cell_type": "code",
   "execution_count": 199,
   "id": "c58031f8",
   "metadata": {},
   "outputs": [
    {
     "data": {
      "text/plain": [
       "1285.53"
      ]
     },
     "execution_count": 199,
     "metadata": {},
     "output_type": "execute_result"
    }
   ],
   "source": [
    "0.73*1761"
   ]
  },
  {
   "cell_type": "code",
   "execution_count": 197,
   "id": "5f790b95",
   "metadata": {},
   "outputs": [
    {
     "data": {
      "text/plain": [
       "476"
      ]
     },
     "execution_count": 197,
     "metadata": {},
     "output_type": "execute_result"
    }
   ],
   "source": [
    "1761-1285"
   ]
  },
  {
   "cell_type": "code",
   "execution_count": 196,
   "id": "617a29e0",
   "metadata": {},
   "outputs": [
    {
     "data": {
      "text/plain": [
       "0.27030096536059056"
      ]
     },
     "execution_count": 196,
     "metadata": {},
     "output_type": "execute_result"
    }
   ],
   "source": [
    "476/1761"
   ]
  },
  {
   "cell_type": "code",
   "execution_count": 200,
   "id": "15facf1b",
   "metadata": {},
   "outputs": [
    {
     "data": {
      "text/plain": [
       "0.03918228279386715"
      ]
     },
     "execution_count": 200,
     "metadata": {},
     "output_type": "execute_result"
    }
   ],
   "source": [
    "0.3094832481544577-0.27030096536059056"
   ]
  },
  {
   "cell_type": "markdown",
   "id": "f56b1f61",
   "metadata": {},
   "source": [
    "# Considerando somente os clientes mais recentes"
   ]
  },
  {
   "cell_type": "code",
   "execution_count": 80,
   "id": "761cd3b0",
   "metadata": {},
   "outputs": [],
   "source": [
    "dataset_filtrado = dados[dados['tenure_bins'] == \"Baixo\"]"
   ]
  },
  {
   "cell_type": "code",
   "execution_count": 81,
   "id": "959c74dd",
   "metadata": {},
   "outputs": [
    {
     "name": "stdout",
     "output_type": "stream",
     "text": [
      "Valor Máximo: 18\n",
      "Valor Mínimo: 0\n"
     ]
    }
   ],
   "source": [
    "valor_maximo = dataset_filtrado['tenure'].max()\n",
    "valor_minimo = dataset_filtrado['tenure'].min()\n",
    "\n",
    "print(f\"Valor Máximo: {valor_maximo}\")\n",
    "print(f\"Valor Mínimo: {valor_minimo}\")"
   ]
  },
  {
   "cell_type": "code",
   "execution_count": 82,
   "id": "80d4f60f",
   "metadata": {},
   "outputs": [],
   "source": [
    "columns_to_model = ['Partner', 'Dependents', 'PhoneService', 'MultipleLines', \n",
    "                    'InternetService', 'OnlineSecurity', 'OnlineBackup', 'DeviceProtection',\n",
    "                    'TechSupport', 'StreamingTV', 'StreamingMovies',        'Contract',\n",
    "                    'PaperlessBilling',     'PaymentMethod', 'Churn',\n",
    "                   'SeniorCitizen', 'tenure',  'MonthlyCharges',  'TotalCharges']\n",
    "\n",
    "X_train, X_test, y_train, y_test = split(data=dataset_filtrado[columns_to_model],  target_variable='Churn')"
   ]
  },
  {
   "cell_type": "code",
   "execution_count": 83,
   "id": "10d8c3a9",
   "metadata": {},
   "outputs": [],
   "source": [
    "X_train.reset_index(drop=True, inplace=True)\n",
    "X_test.reset_index(drop=True, inplace=True)"
   ]
  },
  {
   "cell_type": "code",
   "execution_count": 84,
   "id": "f2a7fd94",
   "metadata": {},
   "outputs": [],
   "source": [
    "selected_columns = ['tenure', 'MonthlyCharges', 'TotalCharges']\n",
    "X_train_subset = X_train[selected_columns]\n",
    "scaler = StandardScaler()\n",
    "X_train[['tenure_scaler','MonthlyCharges_scaler','TotalCharges_scaler']] = pd.DataFrame(scaler.fit_transform(X_train_subset), columns=selected_columns)\n",
    "X_train = X_train.drop(['tenure','MonthlyCharges','TotalCharges', 'Churn'], axis=1)"
   ]
  },
  {
   "cell_type": "code",
   "execution_count": 85,
   "id": "48ce46a1",
   "metadata": {},
   "outputs": [],
   "source": [
    "selected_columns = ['tenure', 'MonthlyCharges', 'TotalCharges']\n",
    "X_test_subset = X_test[selected_columns]\n",
    "scaler = StandardScaler()\n",
    "X_test[['tenure_scaler','MonthlyCharges_scaler','TotalCharges_scaler']] = pd.DataFrame(scaler.fit_transform(X_test_subset), columns=selected_columns)\n",
    "X_test = X_test.drop(['tenure','MonthlyCharges','TotalCharges', 'Churn'], axis=1)"
   ]
  },
  {
   "cell_type": "code",
   "execution_count": 86,
   "id": "9a2d1b80",
   "metadata": {},
   "outputs": [],
   "source": [
    "y_train = y_train.replace('No', 0).replace('Yes', 1)\n",
    "y_test = y_test.replace('No', 0).replace('Yes', 1)"
   ]
  },
  {
   "cell_type": "code",
   "execution_count": 87,
   "id": "b743072b",
   "metadata": {},
   "outputs": [
    {
     "name": "stdout",
     "output_type": "stream",
     "text": [
      "<class 'xgboost.sklearn.XGBClassifier'>\n",
      "Metrics:\n",
      "              precision    recall  f1-score   support\n",
      "\n",
      "           0       0.75      0.71      0.73       380\n",
      "           1       0.66      0.71      0.69       304\n",
      "\n",
      "    accuracy                           0.71       684\n",
      "   macro avg       0.71      0.71      0.71       684\n",
      "weighted avg       0.71      0.71      0.71       684\n",
      "\n",
      "Feature Importances:\n",
      "Partner: 0.007599380798637867\n",
      "Dependents: 0.0\n",
      "PhoneService: 0.011207307688891888\n",
      "MultipleLines: 0.0\n",
      "InternetService: 0.015186627395451069\n",
      "OnlineSecurity: 0.0\n",
      "OnlineBackup: 0.020166918635368347\n",
      "DeviceProtection: 0.0\n",
      "TechSupport: 0.007636025082319975\n",
      "StreamingTV: 0.015359689481556416\n",
      "StreamingMovies: 0.3930782973766327\n",
      "Contract: 0.0\n",
      "PaperlessBilling: 0.18547621369361877\n",
      "PaymentMethod: 0.0\n",
      "SeniorCitizen: 0.008747508749365807\n",
      "<class 'sklearn.linear_model._logistic.LogisticRegression'>\n",
      "Metrics:\n",
      "              precision    recall  f1-score   support\n",
      "\n",
      "           0       0.77      0.65      0.71       380\n",
      "           1       0.64      0.76      0.69       304\n",
      "\n",
      "    accuracy                           0.70       684\n",
      "   macro avg       0.70      0.70      0.70       684\n",
      "weighted avg       0.71      0.70      0.70       684\n",
      "\n",
      "Feature Importances:\n",
      "OnlineSecurity: 0.1191072712373121\n",
      "OnlineBackup: -0.06421956107449922\n",
      "DeviceProtection: -0.06421956107449922\n",
      "StreamingTV: -0.06421956107449922\n",
      "Contract: -0.06421956107449922\n",
      "PaymentMethod: -0.06421956107449922\n",
      "tenure_scaler: -0.06421956107449922\n",
      "TotalCharges_scaler: -0.06421956107449922\n",
      "InternetService: 0.04868299841390872\n",
      "TechSupport: -0.04517981418066374\n",
      "Dependents: -0.04337487767901158\n",
      "MonthlyCharges_scaler: 0.03651205077996549\n",
      "SeniorCitizen: -0.029260375494914097\n",
      "Partner: -0.024762354659976085\n",
      "StreamingMovies: -0.022570863043966514\n",
      "MultipleLines: 0.008304184678434075\n",
      "PhoneService: -0.008302854096324754\n",
      "PaperlessBilling: 0.006947558618202541\n",
      "<class 'sklearn.ensemble._forest.RandomForestClassifier'>\n",
      "Metrics:\n",
      "              precision    recall  f1-score   support\n",
      "\n",
      "           0       0.77      0.69      0.73       380\n",
      "           1       0.65      0.74      0.69       304\n",
      "\n",
      "    accuracy                           0.71       684\n",
      "   macro avg       0.71      0.71      0.71       684\n",
      "weighted avg       0.72      0.71      0.71       684\n",
      "\n",
      "Feature Importances:\n",
      "Partner: 0.004558544360437357\n",
      "Dependents: 0.0018905336112983028\n",
      "PhoneService: 0.003817349666119535\n",
      "MultipleLines: 0.005529689001207891\n",
      "InternetService: 0.000692896953611813\n",
      "OnlineSecurity: 0.0024898132644120283\n",
      "OnlineBackup: 0.0030468255526881005\n",
      "DeviceProtection: 0.0020558334598617706\n",
      "TechSupport: 0.00503491078378989\n",
      "StreamingTV: 0.03393598205607327\n",
      "StreamingMovies: 0.09433479227622353\n",
      "Contract: 0.027975356549166375\n",
      "PaperlessBilling: 0.12874346664091715\n",
      "PaymentMethod: 0.023733197021149146\n",
      "SeniorCitizen: 0.011167925860453978\n"
     ]
    }
   ],
   "source": [
    "from xgboost import XGBClassifier\n",
    "from imblearn.pipeline import Pipeline\n",
    "from sklearn.linear_model import LogisticRegression\n",
    "from sklearn.ensemble import RandomForestClassifier\n",
    "\n",
    "columns_to_encoder=['Partner', 'Dependents', 'PhoneService', 'MultipleLines', \n",
    "                        'InternetService', 'OnlineSecurity', 'OnlineBackup', 'DeviceProtection',\n",
    "                       'TechSupport', 'StreamingTV', 'StreamingMovies',        'Contract',\n",
    "                       'PaperlessBilling',     'PaymentMethod', 'SeniorCitizen']\n",
    "\n",
    "list_models = [XGBClassifier, LogisticRegression, RandomForestClassifier]\n",
    "\n",
    "for model in list_models:\n",
    "\n",
    "    if model == LogisticRegression:\n",
    "        preprocessor = ColumnTransformer(\n",
    "            transformers=[('cat', OneHotEncoder(drop='first'), columns_to_encoder)],\n",
    "            remainder='passthrough')\n",
    "        \n",
    "        params = {'classifier__C': [0.001, 0.01, 0.1, 1, 10, 100],\n",
    "                  'classifier__penalty': ['l1', 'l2']}\n",
    "        \n",
    "    if model == RandomForestClassifier:\n",
    "        preprocessor = ColumnTransformer(\n",
    "            transformers=[('cat', OneHotEncoder(), columns_to_encoder)],\n",
    "            remainder='passthrough')\n",
    "        \n",
    "        params = {'classifier__n_estimators': [50, 100, 200],\n",
    "                  'classifier__max_depth': [4, 6, 8],\n",
    "                  'classifier__max_features': [6, 8, 10],\n",
    "                  'classifier__max_features': ['sqrt', 'log2']}\n",
    "        \n",
    "    if model == XGBClassifier:\n",
    "        preprocessor = ColumnTransformer(\n",
    "            transformers=[('cat', OneHotEncoder(), columns_to_encoder)],\n",
    "            remainder='passthrough')\n",
    "        \n",
    "        params = {'classifier__n_estimators': [50, 100, 200],\n",
    "                      'classifier__max_depth': [4, 6, 8]}\n",
    "    \n",
    "    pipeline = Pipeline([\n",
    "        ('preprocessor', preprocessor),\n",
    "        ('smote', SMOTE(random_state=42)),\n",
    "        ('classifier', model())])\n",
    "\n",
    "    grid_search = GridSearchCV(pipeline, param_grid=params, cv=5, scoring='recall')\n",
    "    grid_search.fit(X_train, y_train)\n",
    "    predict_test = grid_search.predict(X_test) \n",
    "     \n",
    "    if model == LogisticRegression:\n",
    "        print(model)\n",
    "        print(\"Metrics:\")\n",
    "        print(classification_report(y_true = y_test, y_pred = predict_test))\n",
    "        best_model = grid_search.best_estimator_\n",
    "        modelo_logistico = best_model.named_steps['classifier']\n",
    "        coefs = modelo_logistico.coef_\n",
    "        feature_importances = dict(zip(X_train.columns, coefs[0]))\n",
    "        print(\"Feature Importances:\")\n",
    "        for feature, importance in sorted(feature_importances.items(), key=lambda x: abs(x[1]), reverse=True):\n",
    "            print(f'{feature}: {importance}')\n",
    "            \n",
    "    else:\n",
    "        print(model)\n",
    "        print(\"Metrics:\")\n",
    "        print(classification_report(y_true = y_test, y_pred = predict_test))\n",
    "        feature_importances = grid_search.best_estimator_.named_steps['classifier'].feature_importances_\n",
    "        print(\"Feature Importances:\")\n",
    "        for feature, importance in zip(columns_to_encoder, feature_importances):\n",
    "            print(f\"{feature}: {importance}\")"
   ]
  }
 ],
 "metadata": {
  "kernelspec": {
   "display_name": "Python 3 (ipykernel)",
   "language": "python",
   "name": "python3"
  },
  "language_info": {
   "codemirror_mode": {
    "name": "ipython",
    "version": 3
   },
   "file_extension": ".py",
   "mimetype": "text/x-python",
   "name": "python",
   "nbconvert_exporter": "python",
   "pygments_lexer": "ipython3",
   "version": "3.11.5"
  }
 },
 "nbformat": 4,
 "nbformat_minor": 5
}
